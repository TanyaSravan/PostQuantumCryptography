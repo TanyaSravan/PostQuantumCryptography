{
 "cells": [
  {
   "cell_type": "code",
   "execution_count": 22,
   "id": "initial_id",
   "metadata": {
    "collapsed": true,
    "ExecuteTime": {
     "end_time": "2024-04-23T16:32:52.903873Z",
     "start_time": "2024-04-23T16:32:52.901842Z"
    }
   },
   "outputs": [],
   "source": [
    "import numpy as np"
   ]
  },
  {
   "cell_type": "code",
   "outputs": [],
   "source": [
    "def add_poly(a, b, q):\n",
    "  result = [0] * max(len(a), len(b))\n",
    "  for i in range(max(len(a), len(b))):\n",
    "    if i < len(a):\n",
    "      result[i] += a[i]\n",
    "    if i < len(b):\n",
    "      result[i] += b[i]\n",
    "    result[i] %= q\n",
    "  return result"
   ],
   "metadata": {
    "collapsed": false,
    "ExecuteTime": {
     "end_time": "2024-04-23T16:32:53.239951Z",
     "start_time": "2024-04-23T16:32:53.237452Z"
    }
   },
   "id": "aced61896f24e35f",
   "execution_count": 23
  },
  {
   "cell_type": "code",
   "outputs": [],
   "source": [
    "def inv_poly(a, q):\n",
    "  return list(map(lambda x: -x % q, a))\n",
    "def sub_poly(a, b, q):\n",
    "  return add_poly(a, inv_poly(b, q), q)"
   ],
   "metadata": {
    "collapsed": false,
    "ExecuteTime": {
     "end_time": "2024-04-23T16:32:53.515061Z",
     "start_time": "2024-04-23T16:32:53.513012Z"
    }
   },
   "id": "5e7a1d4bfba54b3c",
   "execution_count": 24
  },
  {
   "cell_type": "code",
   "outputs": [],
   "source": [
    "def mul_poly(a, b, f, q):\n",
    "  tmp = [0] * (len(a) * 2 - 1)\n",
    "  for i in range(len(a)):\n",
    "    # perform a_i * b\n",
    "    for j in range(len(b)):\n",
    "      tmp[i + j] += a[i] * b[j]\n",
    "  degree_f = len(f) - 1\n",
    "  for i in range(degree_f, len(tmp)):\n",
    "    tmp[i - degree_f] -= tmp[i]\n",
    "    tmp[i] = 0\n",
    "  tmp = list(map(lambda x: x % q, tmp))\n",
    "  return tmp[:degree_f]"
   ],
   "metadata": {
    "collapsed": false,
    "ExecuteTime": {
     "end_time": "2024-04-23T16:32:53.813068Z",
     "start_time": "2024-04-23T16:32:53.810027Z"
    }
   },
   "id": "fbe405005299752c",
   "execution_count": 25
  },
  {
   "cell_type": "code",
   "outputs": [],
   "source": [
    "def add_vec(v0, v1, q):\n",
    "  assert(len(v0) == len(v1))\n",
    "  result = []\n",
    "  for i in range(len(v0)):\n",
    "    result.append(add_poly(v0[i], v1[i], q))\n",
    "  return result\n",
    "\n",
    "def mul_vec_simple(v0, v1, f, q):\n",
    "  assert(len(v0) == len(v1))\n",
    "  degree_f = len(f) - 1\n",
    "  result = [0 for i in range(degree_f - 1)]\n",
    "  for i in range(len(v0)):\n",
    "    result = add_poly(result, mul_poly(v0[i], v1[i], f, q), q)\n",
    "  return result\n",
    "\n",
    "def mul_mat_vec_simple(m, a, f, q):\n",
    "  result = []\n",
    "  for i in range(len(m)):\n",
    "    result.append(mul_vec_simple(m[i], a, f, q))\n",
    "  return result\n",
    "\n",
    "def transpose(m):\n",
    "  result = [[None for i in range(len(m))] for j in range(len(m[0]))]\n",
    "  for i in range(len(m)):\n",
    "    for j in range(len(m[0])):\n",
    "      result[j][i] = m[i][j]\n",
    "  return result"
   ],
   "metadata": {
    "collapsed": false,
    "ExecuteTime": {
     "end_time": "2024-04-23T16:32:54.104529Z",
     "start_time": "2024-04-23T16:32:54.100357Z"
    }
   },
   "id": "5e095538427384b1",
   "execution_count": 26
  },
  {
   "cell_type": "code",
   "outputs": [],
   "source": [
    "def encrypt(A, t, m_b, f, q, r, e_1, e_2):\n",
    "  half_q = int(q / 2 + 0.5)\n",
    "  m = list(map(lambda x: x * half_q, m_b))\n",
    "  u = add_vec(mul_mat_vec_simple(transpose(A), r, f, q), e_1, q)\n",
    "  v = sub_poly(add_poly(mul_vec_simple(t, r, f, q), e_2, q), m, q)\n",
    "  return u, v"
   ],
   "metadata": {
    "collapsed": false,
    "ExecuteTime": {
     "end_time": "2024-04-23T16:32:54.407031Z",
     "start_time": "2024-04-23T16:32:54.403910Z"
    }
   },
   "id": "9057abce4bed0bc9",
   "execution_count": 27
  },
  {
   "cell_type": "code",
   "outputs": [],
   "source": [
    "def decrypt(s, u, v, f, q):\n",
    "  m_n = sub_poly(v, mul_vec_simple(s, u, f, q), q)\n",
    "  half_q = int(q / 2 + 0.5)\n",
    "  def round(val, center, bound):\n",
    "    dist_center = np.abs(center - val)\n",
    "    dist_bound = min(val, bound - val)\n",
    "    return center if dist_center < dist_bound else 0\n",
    "  m_n = list(map(lambda x: round(x, half_q, q), m_n))\n",
    "  m_b = list(map(lambda x: x // half_q, m_n))\n",
    "  return m_b"
   ],
   "metadata": {
    "collapsed": false,
    "ExecuteTime": {
     "end_time": "2024-04-23T16:32:54.725967Z",
     "start_time": "2024-04-23T16:32:54.723267Z"
    }
   },
   "id": "6abb72d108026bd8",
   "execution_count": 28
  },
  {
   "cell_type": "code",
   "outputs": [
    {
     "name": "stdout",
     "output_type": "stream",
     "text": [
      "True\n"
     ]
    }
   ],
   "source": [
    "q = 17\n",
    "f = [1, 0, 0, 0, 1]\n",
    "\n",
    "s = [[0, 1, -1, -1], [0, -1, 0, -1]] \n",
    "A = [[[11, 16, 16, 6], [3, 6, 4, 9]], [[1, 10, 3, 5], [15, 9, 1, 6]]]\n",
    "e = [[0, 0, 1, 0], [0, -1, 1, 0]] \n",
    "m_b = [1, 1, 0, 1]\n",
    "\n",
    "t = add_vec(mul_mat_vec_simple(A, s, f, q), e, q)\n",
    "\n",
    "r = [[0, 0, 1, -1], [-1, 0, 1, 1]] \n",
    "e_1 = [[0, 1, 1, 0], [0, 0, 1, 0]] \n",
    "e_2 = [0, 0, -1, -1] \n",
    "\n",
    "u, v = encrypt(A, t, m_b, f, q, r, e_1, e_2)\n",
    "m_b2 = decrypt(s, u, v, f, q)\n",
    "\n",
    "print(m_b == m_b2)"
   ],
   "metadata": {
    "collapsed": false,
    "ExecuteTime": {
     "end_time": "2024-04-23T16:32:55.201624Z",
     "start_time": "2024-04-23T16:32:55.197209Z"
    }
   },
   "id": "d802274f1fda91df",
   "execution_count": 29
  }
 ],
 "metadata": {
  "kernelspec": {
   "display_name": "Python 3",
   "language": "python",
   "name": "python3"
  },
  "language_info": {
   "codemirror_mode": {
    "name": "ipython",
    "version": 2
   },
   "file_extension": ".py",
   "mimetype": "text/x-python",
   "name": "python",
   "nbconvert_exporter": "python",
   "pygments_lexer": "ipython2",
   "version": "2.7.6"
  }
 },
 "nbformat": 4,
 "nbformat_minor": 5
}
