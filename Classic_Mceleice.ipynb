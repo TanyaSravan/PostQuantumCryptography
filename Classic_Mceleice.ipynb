{
  "nbformat": 4,
  "nbformat_minor": 0,
  "metadata": {
    "colab": {
      "provenance": []
    },
    "kernelspec": {
      "name": "python3",
      "display_name": "Python 3"
    },
    "language_info": {
      "name": "python"
    }
  },
  "cells": [
    {
      "cell_type": "code",
      "execution_count": 4,
      "metadata": {
        "colab": {
          "base_uri": "https://localhost:8080/"
        },
        "id": "CZerggYyoodq",
        "outputId": "50612919-6b23-4046-cf38-4383503fb18a"
      },
      "outputs": [
        {
          "output_type": "stream",
          "name": "stdout",
          "text": [
            "Collecting pycryptodome\n",
            "  Downloading pycryptodome-3.20.0-cp35-abi3-manylinux_2_17_x86_64.manylinux2014_x86_64.whl (2.1 MB)\n",
            "\u001b[2K     \u001b[90m━━━━━━━━━━━━━━━━━━━━━━━━━━━━━━━━━━━━━━━━\u001b[0m \u001b[32m2.1/2.1 MB\u001b[0m \u001b[31m24.4 MB/s\u001b[0m eta \u001b[36m0:00:00\u001b[0m\n",
            "\u001b[?25hInstalling collected packages: pycryptodome\n",
            "Successfully installed pycryptodome-3.20.0\n"
          ]
        }
      ],
      "source": [
        "!pip install  pycryptodome\n",
        "\n"
      ]
    },
    {
      "cell_type": "code",
      "source": [
        "import numpy as np\n",
        "from Crypto.Random import get_random_bytes\n",
        "import random\n",
        "\n",
        "# Parameters\n",
        "m = 10\n",
        "t = 50\n",
        "n = 2**m\n",
        "k = n - m * t\n",
        "\n",
        "def gf2_matrix_invertible(matrix):\n",
        "\n",
        "    return np.linalg.matrix_rank(matrix) == len(matrix)\n",
        "\n",
        "def gf2_matrix_inv(matrix):\n",
        "\n",
        "    size = len(matrix)\n",
        "    identity = np.eye(size, dtype=np.uint8)\n",
        "    augmented = np.hstack((matrix, identity))\n",
        "    for i in range(size):\n",
        "\n",
        "        if augmented[i, i] == 0:\n",
        "            for j in range(i+1, size):\n",
        "                if augmented[j, i] == 1:\n",
        "                    augmented[[i, j]] = augmented[[j, i]]\n",
        "                    break\n",
        "        augmented[i] = (augmented[i] / augmented[i, i]) % 2\n",
        "\n",
        "        for j in range(size):\n",
        "            if i != j:\n",
        "                augmented[j] = (augmented[j] - augmented[i] * augmented[j, i]) % 2\n",
        "    return augmented[:, size:]\n",
        "\n",
        "def generate_random_invertible_matrix(size):\n",
        "    while True:\n",
        "        matrix = np.random.randint(0, 2, (size, size), dtype=np.uint8)\n",
        "        if gf2_matrix_invertible(matrix):\n",
        "            return matrix\n",
        "\n",
        "# Key Generation\n",
        "def key_generation():\n",
        "\n",
        "    g = [random.randint(1, 2**m - 1) for _ in range(t)]\n",
        "    alpha = [i for i in range(1, n+1)]\n",
        "    G = np.random.randint(0, 2, (k, n), dtype=np.uint8)\n",
        "    S = generate_random_invertible_matrix(k)\n",
        "    P = np.eye(n, dtype=np.uint8)[np.random.permutation(n)]\n",
        "\n",
        "    # Compute public key G_hat = S * G * P\n",
        "    G_hat = (S @ G @ P) % 2\n",
        "\n",
        "    public_key = G_hat\n",
        "    private_key = (S, G, P, g, alpha)\n",
        "    return public_key, private_key\n",
        "\n",
        "# Encryption\n",
        "def encrypt(public_key, message):\n",
        "    if len(message) != k:\n",
        "        raise ValueError(f\"Message length must be {k}\")\n",
        "\n",
        "    G_hat = public_key\n",
        "    m = np.array([int(bit) for bit in message], dtype=np.uint8)\n",
        "    c = (m @ G_hat) % 2\n",
        "    e = np.zeros_like(c)\n",
        "    error_positions = random.sample(range(len(e)), t)\n",
        "    for pos in error_positions:\n",
        "        e[pos] = 1\n",
        "    c = (c + e) % 2\n",
        "    return c\n",
        "\n",
        "# Decryption (using simplified decoding, not Patterson's algorithm)\n",
        "def decrypt(private_key, ciphertext):\n",
        "    S, G, P, g, alpha = private_key\n",
        "    c = np.array(ciphertext, dtype=np.uint8)\n",
        "\n",
        "    # Simplified: Assuming decoding returns original message without error correction\n",
        "    P_inv = np.linalg.inv(P).astype(np.uint8) % 2\n",
        "    S_inv = gf2_matrix_inv(S)\n",
        "    c_prime = (c @ P_inv) % 2\n",
        "    m_hat = (c_prime[:k] @ S_inv) % 2  # Ensure we are only using the first k bits\n",
        "    return ''.join(str(int(bit)) for bit in m_hat)\n",
        "\n",
        "# Example Usage\n",
        "public_key, private_key = key_generation()\n",
        "message = ''.join(random.choice('01') for _ in range(k))  # Example binary message of length k\n",
        "ciphertext = encrypt(public_key, message)\n",
        "decrypted_message = decrypt(private_key, ciphertext)\n",
        "\n",
        "print(f\"Original Message: {message}\")\n",
        "print(f\"Ciphertext: {''.join(map(str, ciphertext))}\")\n",
        "print(f\"Decrypted Message: {decrypted_message}\")\n"
      ],
      "metadata": {
        "colab": {
          "base_uri": "https://localhost:8080/"
        },
        "id": "WzfZqITEpRmJ",
        "outputId": "2ea93b9e-8c63-4693-bbf3-f94ae67f427d"
      },
      "execution_count": 13,
      "outputs": [
        {
          "output_type": "stream",
          "name": "stdout",
          "text": [
            "Original Message: 01000100011011100100101010101011000101110001010010001000111111111101101000100000000011000001100001111001111011011000101000110110010000110000110110111111011010001000101110101111101101010011111111011001101011000001111101010101011100100010011101011111010111011100011010001001011110110110111001010110010101101111110101000101010000110001111001001011111001010000011111101001111001111000101111100001100101000010011110010101011000100111001110101100011101100110010101110010111001000001100100100000000110000000011011110101100000011010\n",
            "Ciphertext: 1001010011011101010001101100111001000100100110010100111110010011110000111000000011000110110011110010001001111010001100010110010010010101000110000001101101001001001011100010111100100111100011010101010000010110011100001110011011110100100101011111001101110111100101100111000110100001000101110100001010001000110000101010011111010100101111001000110101101010010110010111111010010100000110011100001100010001101000001100110101111010110100010110111001011100101111001110101011001111110101010111100100111101101001001001101111000111001110001111000101000100110000101110100000001001011100110110010100010101100000011000001100011111001000101001001010000110110010101011111100111011110001110101001000100000010001010110110110000111001100001001000010110101010000011000111110100101010101010111101010101101111001010100010011011101110110001010000111011010011011000101010011111010100010010001101111100110010010011010101101101111010100101000011000000011010100011011000111001001000111001111001010010000110011111001011000110110111110111000100111100111\n",
            "Decrypted Message: 01101001101111111010010010010011101010100110011110010111101100000111000111001111010011011010000101100111110001101101110100011110100101011010101001101101001100110001100010101110101000010010011010100100110101010111001110000111011100101001100111101011111010000100001001000110000111100111110000100001111001100100001100001011000000011101010110101001101011000100010000001001010001001101011101111010110110101101111111001010110010001001000100110110101010111100111001010101110011111111011000111110001101100111011111101100100111011100\n"
          ]
        },
        {
          "output_type": "stream",
          "name": "stderr",
          "text": [
            "<ipython-input-13-3a82fffc673f>:27: RuntimeWarning: divide by zero encountered in divide\n",
            "  augmented[i] = (augmented[i] / augmented[i, i]) % 2\n",
            "<ipython-input-13-3a82fffc673f>:27: RuntimeWarning: invalid value encountered in divide\n",
            "  augmented[i] = (augmented[i] / augmented[i, i]) % 2\n",
            "<ipython-input-13-3a82fffc673f>:27: RuntimeWarning: invalid value encountered in remainder\n",
            "  augmented[i] = (augmented[i] / augmented[i, i]) % 2\n",
            "<ipython-input-13-3a82fffc673f>:27: RuntimeWarning: invalid value encountered in cast\n",
            "  augmented[i] = (augmented[i] / augmented[i, i]) % 2\n"
          ]
        }
      ]
    },
    {
      "cell_type": "code",
      "source": [
        "def test_key_generation():\n",
        "    public_key, private_key = key_generation()\n",
        "    assert public_key.shape == (k, n), \"Public key shape mismatch\"\n",
        "    assert len(private_key) == 5, \"Private key should have 5 components\"\n",
        "    print(\"Key generation test passed.\")\n",
        "\n",
        "def test_encryption_decryption():\n",
        "    public_key, private_key = key_generation()\n",
        "    message = ''.join(random.choice('01') for _ in range(k))  # Example binary message of length k\n",
        "    ciphertext = encrypt(public_key, message)\n",
        "    decrypted_message = decrypt(private_key, ciphertext)\n",
        "    assert message == decrypted_message, \"Decryption failed\"\n",
        "    print(\"Encryption/Decryption test passed.\")\n",
        "\n",
        "def test_incorrect_message_length():\n",
        "    public_key, private_key = key_generation()\n",
        "    try:\n",
        "        message = '101010'  # Incorrect length\n",
        "        ciphertext = encrypt(public_key, message)\n",
        "        decrypted_message = decrypt(private_key, ciphertext)\n",
        "        assert False, \"Encryption should fail with incorrect message length\"\n",
        "    except ValueError as e:\n",
        "        print(f\"Expected error for incorrect message length: {e}\")\n",
        "\n",
        "def test_random_message_encryption_decryption():\n",
        "    public_key, private_key = key_generation()\n",
        "    message = ''.join(random.choice('01') for _ in range(k))\n",
        "    ciphertext = encrypt(public_key, message)\n",
        "    decrypted_message = decrypt(private_key, ciphertext)\n",
        "    assert message == decrypted_message, \"Decryption failed for random message\"\n",
        "    print(\"Random message encryption/decryption test passed.\")\n",
        "\n",
        "def test_resilience_to_error_in_ciphertext():\n",
        "    public_key, private_key = key_generation()\n",
        "    message = ''.join(random.choice('01') for _ in range(k))\n",
        "    ciphertext = encrypt(public_key, message)\n",
        "\n",
        "    # Introduce additional errors to ciphertext\n",
        "    error_positions = random.sample(range(n), t // 2)  # Introducing t/2 errors\n",
        "    for pos in error_positions:\n",
        "        ciphertext[pos] ^= 1  # Flip the bit\n",
        "\n",
        "    decrypted_message = decrypt(private_key, ciphertext)\n",
        "    # Note: Simplified version won't handle additional errors correctly\n",
        "    print(f\"Original Message: {message}\")\n",
        "    print(f\"Decrypted Message with additional errors: {decrypted_message}\")\n",
        "    print(\"Note: In a real system, decryption might fail or partially recover the message.\")\n",
        "\n",
        "def test_empty_message():\n",
        "    public_key, private_key = key_generation()\n",
        "    try:\n",
        "        message = ''  # Empty message\n",
        "        ciphertext = encrypt(public_key, message)\n",
        "        decrypted_message = decrypt(private_key, ciphertext)\n",
        "        assert False, \"Encryption should fail with empty message\"\n",
        "    except ValueError as e:\n",
        "        print(f\"Expected error for empty message: {e}\")\n",
        "\n",
        "# Run the test cases\n",
        "test_key_generation()\n",
        "test_encryption_decryption()\n",
        "test_incorrect_message_length()\n",
        "test_random_message_encryption_decryption()\n",
        "test_resilience_to_error_in_ciphertext()\n",
        "test_empty_message()\n"
      ],
      "metadata": {
        "colab": {
          "base_uri": "https://localhost:8080/",
          "height": 364
        },
        "id": "to7O_lWFr7eI",
        "outputId": "78a7a04f-de4c-47f9-cb0b-83f91a34a88c"
      },
      "execution_count": 12,
      "outputs": [
        {
          "output_type": "stream",
          "name": "stdout",
          "text": [
            "Key generation test passed.\n"
          ]
        },
        {
          "output_type": "error",
          "ename": "AssertionError",
          "evalue": "Decryption failed",
          "traceback": [
            "\u001b[0;31m---------------------------------------------------------------------------\u001b[0m",
            "\u001b[0;31mAssertionError\u001b[0m                            Traceback (most recent call last)",
            "\u001b[0;32m<ipython-input-12-8feca0ba4b3c>\u001b[0m in \u001b[0;36m<cell line: 61>\u001b[0;34m()\u001b[0m\n\u001b[1;32m     59\u001b[0m \u001b[0;31m# Run the test cases\u001b[0m\u001b[0;34m\u001b[0m\u001b[0;34m\u001b[0m\u001b[0m\n\u001b[1;32m     60\u001b[0m \u001b[0mtest_key_generation\u001b[0m\u001b[0;34m(\u001b[0m\u001b[0;34m)\u001b[0m\u001b[0;34m\u001b[0m\u001b[0;34m\u001b[0m\u001b[0m\n\u001b[0;32m---> 61\u001b[0;31m \u001b[0mtest_encryption_decryption\u001b[0m\u001b[0;34m(\u001b[0m\u001b[0;34m)\u001b[0m\u001b[0;34m\u001b[0m\u001b[0;34m\u001b[0m\u001b[0m\n\u001b[0m\u001b[1;32m     62\u001b[0m \u001b[0mtest_incorrect_message_length\u001b[0m\u001b[0;34m(\u001b[0m\u001b[0;34m)\u001b[0m\u001b[0;34m\u001b[0m\u001b[0;34m\u001b[0m\u001b[0m\n\u001b[1;32m     63\u001b[0m \u001b[0mtest_random_message_encryption_decryption\u001b[0m\u001b[0;34m(\u001b[0m\u001b[0;34m)\u001b[0m\u001b[0;34m\u001b[0m\u001b[0;34m\u001b[0m\u001b[0m\n",
            "\u001b[0;32m<ipython-input-12-8feca0ba4b3c>\u001b[0m in \u001b[0;36mtest_encryption_decryption\u001b[0;34m()\u001b[0m\n\u001b[1;32m     10\u001b[0m     \u001b[0mciphertext\u001b[0m \u001b[0;34m=\u001b[0m \u001b[0mencrypt\u001b[0m\u001b[0;34m(\u001b[0m\u001b[0mpublic_key\u001b[0m\u001b[0;34m,\u001b[0m \u001b[0mmessage\u001b[0m\u001b[0;34m)\u001b[0m\u001b[0;34m\u001b[0m\u001b[0;34m\u001b[0m\u001b[0m\n\u001b[1;32m     11\u001b[0m     \u001b[0mdecrypted_message\u001b[0m \u001b[0;34m=\u001b[0m \u001b[0mdecrypt\u001b[0m\u001b[0;34m(\u001b[0m\u001b[0mprivate_key\u001b[0m\u001b[0;34m,\u001b[0m \u001b[0mciphertext\u001b[0m\u001b[0;34m)\u001b[0m\u001b[0;34m\u001b[0m\u001b[0;34m\u001b[0m\u001b[0m\n\u001b[0;32m---> 12\u001b[0;31m     \u001b[0;32massert\u001b[0m \u001b[0mmessage\u001b[0m \u001b[0;34m==\u001b[0m \u001b[0mdecrypted_message\u001b[0m\u001b[0;34m,\u001b[0m \u001b[0;34m\"Decryption failed\"\u001b[0m\u001b[0;34m\u001b[0m\u001b[0;34m\u001b[0m\u001b[0m\n\u001b[0m\u001b[1;32m     13\u001b[0m     \u001b[0mprint\u001b[0m\u001b[0;34m(\u001b[0m\u001b[0;34m\"Encryption/Decryption test passed.\"\u001b[0m\u001b[0;34m)\u001b[0m\u001b[0;34m\u001b[0m\u001b[0;34m\u001b[0m\u001b[0m\n\u001b[1;32m     14\u001b[0m \u001b[0;34m\u001b[0m\u001b[0m\n",
            "\u001b[0;31mAssertionError\u001b[0m: Decryption failed"
          ]
        }
      ]
    }
  ]
}